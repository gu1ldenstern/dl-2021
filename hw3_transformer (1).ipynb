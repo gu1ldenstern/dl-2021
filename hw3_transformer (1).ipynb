{
 "cells": [
  {
   "cell_type": "markdown",
   "metadata": {},
   "source": [
    "# Трансформеры\n",
    "В этом домашнем задании мы рассмотим использование трансформеров в библиотеке PyTorch. Рассмотрим задачу языкового моделирования. Попробуем генерировать текст нейронной сетью. "
   ]
  },
  {
   "cell_type": "markdown",
   "metadata": {},
   "source": [
    "Ссылка на данные - https://drive.google.com/drive/folders/1x1A4ElliUGBPnHladGMwPxPuGxI8Vnpu?usp=sharing"
   ]
  },
  {
   "cell_type": "code",
   "execution_count": 133,
   "metadata": {},
   "outputs": [],
   "source": [
    "# хороший тон, импортировать все необходимые библиотеки в одной ячейке ;)\n",
    "\n",
    "import torch\n",
    "from torch import nn\n",
    "\n",
    "import numpy as np\n",
    "import time\n",
    "from scipy.stats import bernoulli"
   ]
  },
  {
   "cell_type": "markdown",
   "metadata": {},
   "source": [
    "Что такое языковое моделирование? Это предсказание вероятности следующего токена (слова или буквы) на основе предыдущих токенов. Математически это можно описать так:\n",
    "\n",
    "$$P(x_i|x_1, x_2 , ... , x_{i-1})$$ \n",
    "\n",
    "Последовательность $$ x_1, x_2, ... x_{i-1} $$ называют контекстом."
   ]
  },
  {
   "cell_type": "markdown",
   "metadata": {},
   "source": [
    "## Задание 0 (0 баллов, но сделать нужно)\n",
    "Проставьте знаки неравенств, исходя из вашего опыта:\n",
    "$$ P(раму | мама, мыла) > P(папу | мама, мыла) $$\n",
    "$$ P(столу | дорога, ложка, к) < P(обеду | дорога, ложка, к) $$\n",
    "$$ P(Евпатий | меня, зовут) < P(Ваня | меня, зовут) $$\n",
    "$$ P(журналы | я, часто ,читаю) = P(комиксы | я, часто ,читаю) $$\n",
    "Попробуйте объяснить выбор для каждого из примеров."
   ]
  },
  {
   "cell_type": "markdown",
   "metadata": {},
   "source": [
    "Ответ : в первых двух случаях будет больше вероятность фразеологизма. в третьем - ваня более распространенное имя, чем евпатий, поэтому мы чаще будем его встречать. третий случай интуитивно +- равновероятный"
   ]
  },
  {
   "cell_type": "markdown",
   "metadata": {},
   "source": [
    "Если для некоторых из примеров проставить знаки достаточно просто, то на некоторые сложно сказать, какой овтет верный. Мы принимаем решение для данного задания исходя их опыта использования русского языка. Мы много читали на русском и слушали огромное количество русской речи. Обучение языковых моделей происходит по схожему принципу. \n",
    "\n",
    "Мы хотим показать модели столько текстов, сколько можем и надеемся, что она наберется достаточно опыта, чтобы расставлять такие знаки неравества максимально схоже с человеком."
   ]
  },
  {
   "cell_type": "markdown",
   "metadata": {},
   "source": [
    "## Задание 1 (0.5 балла)\n",
    "Мы будем обучать языковую модель для предсказания следущей буквы. Такие языковые модели применяются в распозновании речи, так как предоставляют дополнительную информацию акустической модели при выборе следующего символа. Для начала, откройте файл с данными, посмотрите, какие символы входят в тексты, сколько их. Уберите из текста все символы переноса на новую строку и табуляцию."
   ]
  },
  {
   "cell_type": "code",
   "execution_count": 41,
   "metadata": {
    "scrolled": true
   },
   "outputs": [
    {
     "data": {
      "text/plain": [
       "700000"
      ]
     },
     "execution_count": 41,
     "metadata": {},
     "output_type": "execute_result"
    }
   ],
   "source": [
    "path = 'small_corp_for_test.txt'\n",
    "file = open(path, 'r', encoding = 'UTF-8')\n",
    "data = file.readlines()\n",
    "file.close()\n",
    "len(data)"
   ]
  },
  {
   "cell_type": "code",
   "execution_count": 42,
   "metadata": {},
   "outputs": [
    {
     "name": "stdout",
     "output_type": "stream",
     "text": [
      "количество уникальных символов:  36\n",
      "список уникальных символов:  - у к ь т ц ъ а б э я г р н з ч ж м о ф д ю ё с п л щ й ш ы и е   х \n",
      " в\n"
     ]
    }
   ],
   "source": [
    "#имхо так проще считать уникальные\n",
    "file = open(path, 'r', encoding = 'UTF-8')\n",
    "data2 = file.read()\n",
    "file.close()\n",
    "unique_chars = set(data2)\n",
    "print('количество уникальных символов: ', len(unique_chars))\n",
    "print('список уникальных символов: ', *unique_chars)"
   ]
  },
  {
   "cell_type": "markdown",
   "metadata": {},
   "source": [
    "тут кст перенос строки считается"
   ]
  },
  {
   "cell_type": "code",
   "execution_count": 43,
   "metadata": {},
   "outputs": [],
   "source": [
    "data = list(map(lambda x: x.replace('\\n', '').replace('\\t', ''),data))"
   ]
  },
  {
   "cell_type": "markdown",
   "metadata": {},
   "source": [
    "## Задание 2 (0.5 балла)\n",
    "Для обучения модели требуется сначала подготовить текст в подходящий для нейросети вид. Важно также отметить, что нужно добавить два токена start и end, которые отвечают за начало и конец текста. Используйте [ и ] для этой задачи. Также нам нужен токен pad, чтобы заполнять им текст до требуемой длинны для формирования батча.\n",
    "\n",
    "Реализуйте метод preprocess класса Preprocessor. Он должен принимать на вход текст и длинну текста, которую мы ожидаем получить на выходе. Текст должен быть переведен в нижний регистр, в конец текста добавляется требуемое число pad токенов, далее текст векторизуется (каждому символу ставится свое число). Вернуть требуется два вектора. Полученный результат без последнего токена (на нем будем обучаться) и полученный результат без первого токена (целевые метки при обучении)."
   ]
  },
  {
   "cell_type": "markdown",
   "metadata": {},
   "source": [
    "ну вы че у вас тут буквы ф нету"
   ]
  },
  {
   "cell_type": "code",
   "execution_count": 186,
   "metadata": {},
   "outputs": [],
   "source": [
    "class Preprocessor:\n",
    "    def __init__(self):\n",
    "        self.alphabet = '_добсркгаупитнезчмф яжлйвцыэь-шхющёъ][ '\n",
    "        self.token2ind = {}\n",
    "        self.ind2token = {}\n",
    "        for i in range(len(self.alphabet)):\n",
    "            self.token2ind[self.alphabet[i]] = i\n",
    "            self.ind2token[i] = self.alphabet[i]\n",
    "        \n",
    "    \n",
    "    def preprocess(self, text, window_size):\n",
    "        \n",
    "        text = list(text.lower())\n",
    "        pad_number = window_size - len(text) #на [ и ] я не ставила потому что они потом в тексты добавятся сами\n",
    "        text.extend(['_']*pad_number)\n",
    "        vectorised = torch.tensor(list(map(lambda x: self.token2ind[x], text)))\n",
    "        \n",
    "        \n",
    "        return [vectorised[:-1], vectorised[1:]]"
   ]
  },
  {
   "cell_type": "code",
   "execution_count": 93,
   "metadata": {},
   "outputs": [
    {
     "name": "stdout",
     "output_type": "stream",
     "text": [
      "['е', 'ж', 'и', ' ', 'л', 'а', 'п', 'а', '_', '_', '_', '_', '_', '_', '_', '_']\n"
     ]
    },
    {
     "data": {
      "text/plain": [
       "[tensor([14, 20, 11, 37, 21,  8, 10,  8,  0,  0,  0,  0,  0,  0,  0]),\n",
       " tensor([20, 11, 37, 21,  8, 10,  8,  0,  0,  0,  0,  0,  0,  0,  0])]"
      ]
     },
     "execution_count": 93,
     "metadata": {},
     "output_type": "execute_result"
    }
   ],
   "source": [
    "prepr = Preprocessor()\n",
    "prepr.preprocess('ежи лапа', 16)"
   ]
  },
  {
   "cell_type": "markdown",
   "metadata": {},
   "source": [
    "## Задание 3 (0.5 балла)\n",
    "Так как мы решили, что текст будет начинаться токеном [ и заканчиваться токеном ], данные нужно поправить. Реализуйте эту идею, добавьте данные токены в ваши тексты."
   ]
  },
  {
   "cell_type": "code",
   "execution_count": 84,
   "metadata": {},
   "outputs": [],
   "source": [
    "datakek = list(map(lambda x: '['+ x + ']', data))"
   ]
  },
  {
   "cell_type": "code",
   "execution_count": 134,
   "metadata": {},
   "outputs": [
    {
     "data": {
      "text/plain": [
       "'[кого]'"
      ]
     },
     "execution_count": 134,
     "metadata": {},
     "output_type": "execute_result"
    }
   ],
   "source": [
    "datakek[1]"
   ]
  },
  {
   "cell_type": "markdown",
   "metadata": {},
   "source": [
    "## Задание 4 (0.5 балла)\n",
    "Так как мы не располагаем большими мощностями, то давайте ограничим максимальную длинну текста. Вы можете менять этот порог и тем самым уменьшать кол-во текстов в вашей выборке и увеличивая тем самым скорость обучения. Начнем же мы с 128. \n",
    "Выберите порог и оставьте только те тексты, длина которых не превосходит данный порог.\n",
    "\n",
    "Далее разбейте тексты на train и test, перемешайте тексты при разбиении, размер тестовой выборки должен быть 15% от общего числа текстов. "
   ]
  },
  {
   "cell_type": "code",
   "execution_count": 89,
   "metadata": {},
   "outputs": [
    {
     "data": {
      "text/plain": [
       "700000"
      ]
     },
     "execution_count": 89,
     "metadata": {},
     "output_type": "execute_result"
    }
   ],
   "source": [
    "len(datakek)"
   ]
  },
  {
   "cell_type": "code",
   "execution_count": 87,
   "metadata": {},
   "outputs": [],
   "source": [
    "THRESHOLD = 128\n",
    "\n",
    "datalol = [i for i in datakek if len(i)<=THRESHOLD]"
   ]
  },
  {
   "cell_type": "code",
   "execution_count": 88,
   "metadata": {},
   "outputs": [
    {
     "data": {
      "text/plain": [
       "683438"
      ]
     },
     "execution_count": 88,
     "metadata": {},
     "output_type": "execute_result"
    }
   ],
   "source": [
    "len(datalol)"
   ]
  },
  {
   "cell_type": "markdown",
   "metadata": {},
   "source": [
    "делим на train и test:"
   ]
  },
  {
   "cell_type": "code",
   "execution_count": 101,
   "metadata": {},
   "outputs": [],
   "source": [
    "r = bernoulli.rvs(0.15, size=len(datalol))"
   ]
  },
  {
   "cell_type": "code",
   "execution_count": 135,
   "metadata": {},
   "outputs": [],
   "source": [
    "data_test = np.array(datalol)[np.nonzero(r)]"
   ]
  },
  {
   "cell_type": "code",
   "execution_count": 136,
   "metadata": {},
   "outputs": [],
   "source": [
    "data_train = np.array(datalol)[np.nonzero(r == 0)]"
   ]
  },
  {
   "cell_type": "code",
   "execution_count": 132,
   "metadata": {},
   "outputs": [
    {
     "name": "stdout",
     "output_type": "stream",
     "text": [
      "0.8498108094662573\n"
     ]
    }
   ],
   "source": [
    "print(len(data_train)/(len(data_train)+ len(data_test)))"
   ]
  },
  {
   "cell_type": "markdown",
   "metadata": {},
   "source": [
    "## Задание 5 (2 балла)\n",
    "Напишем датасет. На вход датасету передается набор текстов, объект класса Preprocessor и размер окна, который вы выбрали в прошлом задании.\n",
    "Реализуйте методы __len__ и __getitem__."
   ]
  },
  {
   "cell_type": "code",
   "execution_count": 294,
   "metadata": {},
   "outputs": [],
   "source": [
    "class TextDataset(torch.utils.data.Dataset):\n",
    "    \n",
    "    def __init__(self, x, preproc, win_size = 128):\n",
    "        self.x = torch.empty(size=(len(x), win_size-1))\n",
    "        self.y = torch.empty(size=(len(x), win_size-1))\n",
    "        for i, j in zip(x, range(len(x))):\n",
    "            learn, target = preproc.preprocess(i, win_size)\n",
    "            self.x[j] = learn\n",
    "            self.y[j] = target\n",
    "        \n",
    "    def __len__(self):\n",
    "        return len(self.x)\n",
    "    \n",
    "    def __getitem__(self, idx):\n",
    "        return (torch.tensor(self.x[idx, :], dtype=int), self.y[idx])"
   ]
  },
  {
   "cell_type": "code",
   "execution_count": 295,
   "metadata": {},
   "outputs": [],
   "source": [
    "preproc = Preprocessor()\n",
    "train_dataset = TextDataset(data_train, preproc)\n",
    "test_dataset = TextDataset(data_test, preproc)"
   ]
  },
  {
   "cell_type": "code",
   "execution_count": 266,
   "metadata": {},
   "outputs": [
    {
     "data": {
      "text/plain": [
       "102645"
      ]
     },
     "execution_count": 266,
     "metadata": {},
     "output_type": "execute_result"
    }
   ],
   "source": [
    "len(test_dataset)"
   ]
  },
  {
   "cell_type": "code",
   "execution_count": 268,
   "metadata": {},
   "outputs": [
    {
     "name": "stderr",
     "output_type": "stream",
     "text": [
      "<ipython-input-264-11b1fd48c751>:15: UserWarning: To copy construct from a tensor, it is recommended to use sourceTensor.clone().detach() or sourceTensor.clone().detach().requires_grad_(True), rather than torch.tensor(sourceTensor).\n",
      "  return (torch.tensor(self.x[idx, :], dtype=int), self.y[idx])\n"
     ]
    },
    {
     "data": {
      "text/plain": [
       "(tensor([37, 13,  8,  4, 17, 14,  5, 12, 28, 36,  0,  0,  0,  0,  0,  0,  0,  0,\n",
       "          0,  0,  0,  0,  0,  0,  0,  0,  0,  0,  0,  0,  0,  0,  0,  0,  0,  0,\n",
       "          0,  0,  0,  0,  0,  0,  0,  0,  0,  0,  0,  0,  0,  0,  0,  0,  0,  0,\n",
       "          0,  0,  0,  0,  0,  0,  0,  0,  0,  0,  0,  0,  0,  0,  0,  0,  0,  0,\n",
       "          0,  0,  0,  0,  0,  0,  0,  0,  0,  0,  0,  0,  0,  0,  0,  0,  0,  0,\n",
       "          0,  0,  0,  0,  0,  0,  0,  0,  0,  0,  0,  0,  0,  0,  0,  0,  0,  0,\n",
       "          0,  0,  0,  0,  0,  0,  0,  0,  0,  0,  0,  0,  0,  0,  0,  0,  0,  0,\n",
       "          0]),\n",
       " tensor([13.,  8.,  4., 17., 14.,  5., 12., 28., 36.,  0.,  0.,  0.,  0.,  0.,\n",
       "          0.,  0.,  0.,  0.,  0.,  0.,  0.,  0.,  0.,  0.,  0.,  0.,  0.,  0.,\n",
       "          0.,  0.,  0.,  0.,  0.,  0.,  0.,  0.,  0.,  0.,  0.,  0.,  0.,  0.,\n",
       "          0.,  0.,  0.,  0.,  0.,  0.,  0.,  0.,  0.,  0.,  0.,  0.,  0.,  0.,\n",
       "          0.,  0.,  0.,  0.,  0.,  0.,  0.,  0.,  0.,  0.,  0.,  0.,  0.,  0.,\n",
       "          0.,  0.,  0.,  0.,  0.,  0.,  0.,  0.,  0.,  0.,  0.,  0.,  0.,  0.,\n",
       "          0.,  0.,  0.,  0.,  0.,  0.,  0.,  0.,  0.,  0.,  0.,  0.,  0.,  0.,\n",
       "          0.,  0.,  0.,  0.,  0.,  0.,  0.,  0.,  0.,  0.,  0.,  0.,  0.,  0.,\n",
       "          0.,  0.,  0.,  0.,  0.,  0.,  0.,  0.,  0.,  0.,  0.,  0.,  0.,  0.,\n",
       "          0.]))"
      ]
     },
     "execution_count": 268,
     "metadata": {},
     "output_type": "execute_result"
    }
   ],
   "source": [
    "train_dataset.__getitem__(80)"
   ]
  },
  {
   "cell_type": "markdown",
   "metadata": {},
   "source": [
    "## Задание 6 (2 балла)\n",
    "Напишем модель. Класс для реализации positional encoding реализован за вас, он нужен, чтобы модель могла после получения эмбедингов понимать, на каком месте какой токен находится.\n",
    "\n",
    "Заполните пропуски в классе модели. Гипперпараметры модели вам предлагается подобрать самостоятельно. Рекомендуется использовать не более 6 слоев в трансформере. В декореде испоьлзуйте две линейных слоя с функцией активации ReLU между ними.\n",
    "\n",
    "## Задание 6_1 (0 баллов, но надо ответить!)\n",
    "При обучении языковой модели на основе трансформеров мы используем маскирование символов (как мы это делаем - уже реализовано). Напишите, почему мы это делаем? Почему это так важно?"
   ]
  },
  {
   "cell_type": "markdown",
   "metadata": {},
   "source": [
    "источники - круто! https://pytorch.org/tutorials/beginner/transformer_tutorial.html"
   ]
  },
  {
   "cell_type": "code",
   "execution_count": 213,
   "metadata": {},
   "outputs": [],
   "source": [
    "import math"
   ]
  },
  {
   "cell_type": "code",
   "execution_count": 287,
   "metadata": {},
   "outputs": [],
   "source": [
    "class PositionalEncoding(nn.Module):\n",
    "\n",
    "    def __init__(self, d_model, dropout=0.1, max_len=5000):\n",
    "        super(PositionalEncoding, self).__init__()\n",
    "        self.dropout = nn.Dropout(p=dropout)\n",
    "\n",
    "        pe = torch.zeros(max_len, d_model)\n",
    "        position = torch.arange(0, max_len, dtype=torch.float).unsqueeze(1)\n",
    "        div_term = torch.exp(torch.arange(0, d_model, 2).float() * (-math.log(10000.0) / d_model))\n",
    "        pe[:, 0::2] = torch.sin(position * div_term)\n",
    "        pe[:, 1::2] = torch.cos(position * div_term)\n",
    "        pe = pe.unsqueeze(0).transpose(0, 1)\n",
    "        self.register_buffer('pe', pe)\n",
    "\n",
    "    def forward(self, x):\n",
    "        x = x + self.pe[:x.size(0), :]\n",
    "        return self.dropout(x)"
   ]
  },
  {
   "cell_type": "code",
   "execution_count": 308,
   "metadata": {},
   "outputs": [],
   "source": [
    "class LanguageModel(nn.Module):\n",
    "    def __init__(self, vocab_size):\n",
    "        super(LanguageModel, self).__init__()\n",
    "        ntoken = 64\n",
    "        \n",
    "        self.emb = nn.Embedding(num_embeddings = vocab_size, embedding_dim = ntoken, padding_idx=0)\n",
    "        self.pe = PositionalEncoding(ntoken)\n",
    "        self.transformer_encoder_layer = nn.TransformerEncoderLayer(ntoken, nhead=2)\n",
    "        self.transformer_encoder = nn.TransformerEncoder(self.transformer_encoder_layer, num_layers=6)\n",
    "        self.decoder = nn.Sequential(\n",
    "            nn.Linear(ntoken, ntoken),\n",
    "            nn.ReLU(),\n",
    "            nn.Linear(ntoken, vocab_size)\n",
    "        )\n",
    "    \n",
    "    def forward(self, x, src_mask):\n",
    "        x = self.emb(x)\n",
    "        x = self.pe(x) # emb, then pe\n",
    "        x = x.transpose(1, 0)\n",
    "        x = self.transformer_encoder(x, src_mask)\n",
    "        x = self.decoder(x)\n",
    "        return x.transpose(1, 0)\n",
    "    \n",
    "    def generate_square_subsequent_mask(self, sz):\n",
    "        # А вот и то самое маскирование\n",
    "        mask = (torch.triu(torch.ones(sz, sz)) == 1).transpose(0, 1)\n",
    "        mask = mask.float().masked_fill(mask == 0, float('-inf')).masked_fill(mask == 1, float(0.0))\n",
    "        return mask"
   ]
  },
  {
   "cell_type": "markdown",
   "metadata": {},
   "source": [
    "ОПЯТЬ БУКВУ Ф ДОБАВЛЯТЬ"
   ]
  },
  {
   "cell_type": "code",
   "execution_count": 309,
   "metadata": {},
   "outputs": [],
   "source": [
    "model = LanguageModel(len('_добсркгаупитнезчмф яжлйвцыэь-шхющёъ][ '))"
   ]
  },
  {
   "cell_type": "markdown",
   "metadata": {},
   "source": [
    "## Задание 7 (2,5 балла)\n",
    "Финишная прямая. Давайте реализуем класс для обучения модели и ее валидации. Следуйте указаниям в коде и заполните недостающие фрагменты в коде."
   ]
  },
  {
   "cell_type": "code",
   "execution_count": 326,
   "metadata": {},
   "outputs": [],
   "source": [
    "class Trainer:\n",
    "    \n",
    "    def __init__(self, model, train_dataset, test_dataset):\n",
    "        \n",
    "        self.model = model\n",
    "        \n",
    "        self.train_batch_size = 256\n",
    "        self.test_batch_size = 256\n",
    "        \n",
    "        self.train_dataloader = torch.utils.data.DataLoader(train_dataset, batch_size=64, shuffle = True)\n",
    "        self.test_dataloader = torch.utils.data.DataLoader(test_dataset, batch_size=64, shuffle = False)\n",
    "        self.train_dataloader_size = len(self.train_dataloader)\n",
    "        self.test_dataloader_size = len(self.test_dataloader)\n",
    "        \n",
    "        self.device = \"cuda:0\" if torch.cuda.is_available() else \"cpu\"\n",
    "        self.criterion = nn.CrossEntropyLoss(ignore_index = 0) # используйте CrossEntrophyLoss, передайте в качетсве параметра \n",
    "                             # ignore index индекс символа _, чтобы модель не штрафовалась за то\n",
    "                             # что идет после закрывающего токена\n",
    "        \n",
    "        self.optimizer = torch.optim.SGD(self.model.parameters(), lr=0.01)\n",
    "        \n",
    "        self.steps_to_print = 1000\n",
    "        \n",
    "    def train_one_epoch(self, epoch_number):\n",
    "        step = 0\n",
    "        counted_loss = 0\n",
    "        current_time = time.time()\n",
    "        it = 0\n",
    "        \n",
    "        for batch in self.train_dataloader:\n",
    "            \n",
    "            step+=1\n",
    "            \n",
    "            self.src_mask = model.generate_square_subsequent_mask(127)\n",
    "            x, y = batch\n",
    "            it+=len(x)\n",
    "            predicted = model(x, self.src_mask).transpose(-1,1)\n",
    "            y = y.type(torch.LongTensor)\n",
    "            #predicted = predicted.type(torch.LongTensor)\n",
    "            loss = self.criterion(predicted, y)\n",
    "            counted_loss += loss.item()\n",
    "            loss.backward()\n",
    "            self.optimizer.step()\n",
    "            self.optimizer.zero_grad()\n",
    "            # YOUR CODE HERE\n",
    "            \n",
    "            # реализуйте шаги обучения модели\n",
    "            # сохраняйте значение ошибки в переменную counted_loss\n",
    "            \n",
    "            ################\n",
    "            \n",
    "            \n",
    "            if step%self.steps_to_print == 0:\n",
    "                result = 'Train epoch '+str(epoch_number)+' | '\n",
    "                result += 'Step '+str(step)+'/'+str(self.train_dataloader_size)+' | '\n",
    "                result += 'Counted loss '+str(counted_loss)+' | '\n",
    "                result += 'ppl '+str(math.exp(counted_loss/it))+' | '\n",
    "                result += 'time '+str(time.time() - current_time) + ' | '\n",
    "                current_time = time.time()\n",
    "                counted_loss = 0\n",
    "                it = 0\n",
    "    \n",
    "    def validate_one_epoch(self, epoch_number):\n",
    "        step = 0\n",
    "        counted_loss = 0\n",
    "        current_time = time.time()\n",
    "        it = 0\n",
    "        \n",
    "        for batch in self.test_dataloader:\n",
    "            \n",
    "            step+=1\n",
    "            self.src_mask = model.generate_square_subsequent_mask(127)\n",
    "            x, y = batch\n",
    "            it+=len(x)\n",
    "            predicted = model(x).transpose(-1,1)\n",
    "            y = y.type(torch.LongTensor)\n",
    "            loss = self.criterion(predicted, y)\n",
    "            counted_loss += loss.item()\n",
    "            \n",
    "            # YOUR CODE HERE\n",
    "            \n",
    "            # реализуйте шаги для теста модели\n",
    "            # помните, что данный метод уже запускается из \n",
    "            # блока with torch.no_grad(), а потому \n",
    "            # повторно его использовать не нужно\n",
    "            \n",
    "            ################\n",
    "            \n",
    "            if step%(self.steps_to_print//2) == 0:\n",
    "                result = 'Validate epoch '+str(epoch_number)+' | '\n",
    "                result += 'Step '+str(step)+'/'+str(self.test_dataloader_size)+' | '\n",
    "                result += 'Counted loss '+str(counted_loss)+' | '\n",
    "                result += 'ppl '+str(math.exp(counted_loss/it))+' | '\n",
    "                result += 'time '+str(time.time() - current_time) + ' | '\n",
    "                current_time = time.time()\n",
    "                counted_loss = 0\n",
    "                it = 0\n",
    "        \n",
    "    def train(self, number_of_epochs):\n",
    "        model.to(self.device)\n",
    "        for epoch in range(1, number_of_epochs+1):\n",
    "            model.train()\n",
    "            self.train_one_epoch(epoch)\n",
    "            with torch.no_grad():\n",
    "                model.eval()\n",
    "                self.validate_one_epoch(epoch)\n",
    "            print()"
   ]
  },
  {
   "cell_type": "markdown",
   "metadata": {},
   "source": [
    "Что такое ppl? Перплексия. Ее можно интерпретировать как меру \"удивленности\" модели нужному символу. Чем меньше данная величина, тем лучше, ведь это значит, что модель если и сделала неправильный выбор, то не сильно удивлена своей ошибке.\n",
    "\n",
    "Проведите несколько экспериментов, посмотрите, при каких гипперпараметрах значение перплексии минимально."
   ]
  },
  {
   "cell_type": "markdown",
   "metadata": {},
   "source": [
    "## Задание 8 (0.5 балла)\n",
    "Запустите обучение на нескольких эпохах. Ориентируйтесь на ваши вычислительные мощности и время работы. Вы всегда можете посчитать, сколько секунд уходит на один батч."
   ]
  },
  {
   "cell_type": "code",
   "execution_count": null,
   "metadata": {},
   "outputs": [
    {
     "name": "stderr",
     "output_type": "stream",
     "text": [
      "<ipython-input-294-11b1fd48c751>:15: UserWarning: To copy construct from a tensor, it is recommended to use sourceTensor.clone().detach() or sourceTensor.clone().detach().requires_grad_(True), rather than torch.tensor(sourceTensor).\n",
      "  return (torch.tensor(self.x[idx, :], dtype=int), self.y[idx])\n"
     ]
    }
   ],
   "source": [
    "training = Trainer(model, train_dataset, test_dataset)\n",
    "training.train(1)"
   ]
  },
  {
   "cell_type": "markdown",
   "metadata": {},
   "source": [
    "я не оч понимаю почему это так мучительно долго, у меня уже 2 часа одна эпоха бежит (правда не на cpu, потому что не могу сейчас на cpu :::::::::((((((()"
   ]
  },
  {
   "cell_type": "markdown",
   "metadata": {},
   "source": [
    "## Задание 9 (1 балл)\n",
    "Итак, давайте попробуем погенерировать текст нашей сеткой. Закончите функцию по генерации текста. Попробуйте сгенерировать какой-нибудь текст. Помните, что если вы хотите генерировать текст с нуля, то вы должны передать в качестве текста только токен start.\n",
    "Прекратите генерировать текст, если модель выдала токен end или длинна текста больше 150."
   ]
  },
  {
   "cell_type": "code",
   "execution_count": null,
   "metadata": {},
   "outputs": [],
   "source": [
    "def generate_text(text):\n",
    "    x = []\n",
    "    \n",
    "    for letter in text:\n",
    "        x.append(preproc.token2ind[letter])\n",
    "    x = torch.from_numpy(np.array(x))\n",
    "    \n",
    "    pred = model(x, model.generate_square_subsequent_mask(len(x)))\n",
    "    ind = int(pred.transpose(-1,1).argmax(1)[0][-1])\n",
    "    \n",
    "    text += preproc.ind2token[ind]\n",
    "    \n",
    "    if text[-1] == ']' or len(text)>=150:\n",
    "        return text\n",
    "    else:\n",
    "        return generate_text(text)"
   ]
  },
  {
   "cell_type": "markdown",
   "metadata": {},
   "source": [
    "## Задание 10* (Задание - бонус, 5 баллов за реализацию при условии, что сделаны прошлые задания)\n",
    "Давайте вспомним, что такое transfer learning. Мы хотим использовать уже предобученные эмбединги для нашей сети, чтобы наша сеть обучалась быстрее. Давайте попробуем обучить новую модель на уровне слов, а не символов, но для упрощения задачи используем предобученный слой из библиотеки Natasha, а вернее, ее блок Navec."
   ]
  },
  {
   "cell_type": "markdown",
   "metadata": {},
   "source": [
    "[Изучите](https://github.com/natasha/navec) то, как вставить слой в вашу нейронную сеть."
   ]
  },
  {
   "cell_type": "markdown",
   "metadata": {},
   "source": [
    "Теперь мы хотим, чтобы на вход модели подавались слова, модифицируйте ваш датасет. Возвращайте теперь номер слова в словаре navec."
   ]
  },
  {
   "cell_type": "code",
   "execution_count": null,
   "metadata": {},
   "outputs": [],
   "source": [
    "class TextDataset_Navec(torch.utils.data.Dataset):\n",
    "    \n",
    "    def __init__(self, x, win_size = 128):\n",
    "        # YOUR CODE HERE\n",
    "        self.navec = ...\n",
    "        ################\n",
    "    \n",
    "    def __len__(self):\n",
    "        # YOUR CODE HERE\n",
    "        ################\n",
    "    \n",
    "    def __getitem__(self, idx):\n",
    "        # YOUR CODE HERE\n",
    "        ################"
   ]
  },
  {
   "cell_type": "markdown",
   "metadata": {},
   "source": [
    "Немного модифицируем модель. Теперь нам не нужны слои с трансформером, так как весь механизм внимания уже заложен в ембедингах. Давайте попробуем просто пройтись линейной головой над эмбедингами. Выберите параметры самостоятельно."
   ]
  },
  {
   "cell_type": "code",
   "execution_count": null,
   "metadata": {},
   "outputs": [],
   "source": [
    "class LanguageModel(nn.Module):\n",
    "    def __init__(self):\n",
    "        super(LanguageModel, self).__init__()\n",
    "        self.emb_navec = ...\n",
    "        self.head = ...\n",
    "    \n",
    "    def forward(self, x):\n",
    "        x = ... # emb\n",
    "        x = ... # head\n",
    "        return x"
   ]
  },
  {
   "cell_type": "markdown",
   "metadata": {},
   "source": [
    "Теперь дело за малым! Надо немного модифицировать класс обучения, так как мы не используем маскирование, после чего можно приступить к тесту!"
   ]
  },
  {
   "cell_type": "code",
   "execution_count": null,
   "metadata": {},
   "outputs": [],
   "source": [
    "class Trainer:\n",
    "    \n",
    "    def __init__(self, model, train_dataset, test_dataset):\n",
    "        \n",
    "        self.model = model\n",
    "        \n",
    "        self.train_batch_size = 64\n",
    "        self.test_batch_size = 64\n",
    "        \n",
    "        self.train_dataloader = ...\n",
    "        self.test_dataloader = ...\n",
    "        self.train_dataloader_size = ...\n",
    "        self.test_dataloader_size = ...\n",
    "        \n",
    "        self.device = 'cuda:0'\n",
    "        self.criterion = ... \n",
    "        \n",
    "        self.optimizer = ...\n",
    "        \n",
    "        self.steps_to_print = 1000\n",
    "        \n",
    "    def train_one_epoch(self, epoch_number):\n",
    "        step = 0\n",
    "        counted_loss = 0\n",
    "        current_time = time.time()\n",
    "        it = 0\n",
    "        \n",
    "        for batch in self.train_dataloader:\n",
    "            x, y = batch\n",
    "            # YOUR CODE HERE\n",
    "            \n",
    "            # реализуйте шаги обучения модели\n",
    "            # сохраняйте значение ошибки в переменную counted_loss\n",
    "            \n",
    "            ################\n",
    "            \n",
    "            \n",
    "            if step%self.steps_to_print == 0:\n",
    "                result = 'Train epoch '+str(epoch_number)+' | '\n",
    "                result += 'Step '+str(step)+'/'+str(self.train_dataloader_size)+' | '\n",
    "                result += 'Counted loss '+str(counted_loss)+' | '\n",
    "                result += 'ppl '+str(math.exp(counted_loss/it))+' | '\n",
    "                result += 'time '+str(time.time() - current_time) + ' | '\n",
    "                print(result)\n",
    "                current_time = time.time()\n",
    "                counted_loss = 0\n",
    "                it = 0\n",
    "    \n",
    "    def validate_one_epoch(self, epoch_number):\n",
    "        step = 0\n",
    "        counted_loss = 0\n",
    "        current_time = time.time()\n",
    "        it = 0\n",
    "        for batch in self.test_dataloader:\n",
    "            x, y = batch\n",
    "            \n",
    "            # YOUR CODE HERE\n",
    "            \n",
    "            # реализуйте шаги для теста модели\n",
    "            # помните, что данный метод уже запускается из \n",
    "            # блока with torch.no_grad(), а потому \n",
    "            # повторно его использовать не нужно\n",
    "            \n",
    "            ################\n",
    "            \n",
    "            if step%(self.steps_to_print//2) == 0:\n",
    "                result = 'Validate epoch '+str(epoch_number)+' | '\n",
    "                result += 'Step '+str(step)+'/'+str(self.test_dataloader_size)+' | '\n",
    "                result += 'Counted loss '+str(counted_loss)+' | '\n",
    "                result += 'ppl '+str(math.exp(counted_loss/it))+' | '\n",
    "                result += 'time '+str(time.time() - current_time) + ' | '\n",
    "                print(result)\n",
    "                current_time = time.time()\n",
    "                counted_loss = 0\n",
    "                it = 0\n",
    "        \n",
    "    def train(self, number_of_epochs):\n",
    "        model.to(self.device)\n",
    "        for epoch in range(1, number_of_epochs+1):\n",
    "            model.train()\n",
    "            self.train_one_epoch(epoch)\n",
    "            with torch.no_grad():\n",
    "                model.eval()\n",
    "                self.validate_one_epoch(epoch)\n",
    "            print()"
   ]
  },
  {
   "cell_type": "markdown",
   "metadata": {},
   "source": [
    "Запустите обучение. "
   ]
  },
  {
   "cell_type": "code",
   "execution_count": null,
   "metadata": {},
   "outputs": [],
   "source": [
    "# YOUR CODE HERE\n",
    "###############"
   ]
  }
 ],
 "metadata": {
  "kernelspec": {
   "display_name": "Python 3",
   "language": "python",
   "name": "python3"
  },
  "language_info": {
   "codemirror_mode": {
    "name": "ipython",
    "version": 3
   },
   "file_extension": ".py",
   "mimetype": "text/x-python",
   "name": "python",
   "nbconvert_exporter": "python",
   "pygments_lexer": "ipython3",
   "version": "3.8.8"
  }
 },
 "nbformat": 4,
 "nbformat_minor": 4
}
